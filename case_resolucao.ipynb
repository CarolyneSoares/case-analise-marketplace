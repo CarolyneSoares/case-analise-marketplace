{
  "cells": [
    {
      "cell_type": "markdown",
      "metadata": {
        "id": "Jmm57LivcFvB"
      },
      "source": [
        "# **Case de Análise de Dados em um Marketplace de Eletrônicos**"
      ]
    },
    {
      "cell_type": "markdown",
      "metadata": {},
      "source": [
        "### **Objetivo**\n",
        "\n",
        "##### Esta análise tem como objetivo compreender melhor o desempenho de um marketplace de eletrônicos, avaliando indicadores financeiros e operacionais para embasar decisões estratégicas. Através da exploração e tratamento de dados, buscamos identificar padrões de faturamento, lucro, comportamento dos clientes e eficiência das operações.\n",
        "##### Para isso, utilizamos consultas SQL para extrair e processar informações a partir de três bases de dados principais:\n",
        "##### • **Pedidos**  – Registros de todas as vendas realizadas.\n",
        "##### • **Produtos** – Informações sobre os produtos disponíveis na plataforma.\n",
        "##### • **Clientes** – Detalhes sobre os clientes cadastrados.\n",
        "##### Posteriormente, os resultados foram visualizados no Power BI para facilitar a interpretação dessas informações.\n",
        "\n",
        "### **Etapas do Projeto**\n",
        "##### **A. Primeiro Passo: Carregamento e processamento os dados.**\n",
        "##### Nesta etapa, os arquivos CSV contendo informações de pedidos, produtos e clientes serão importados e transformados em DataFrames para facilitar a análise. Além disso, será feita uma verificação inicial para garantir a integridade dos dados, identificando e tratando possíveis valores ausentes ou inconsistências.\n",
        "##### **B. Segundo Passo: Armazenamento temporário em banco de dados.**\n",
        "##### Para otimizar a manipulação dos dados, será criado um banco de dados SQLite em memória, onde as tabelas serão armazenadas temporariamente. Isso permitirá a execução de consultas SQL mais eficientes, facilitando o cruzamento de informações entre pedidos, produtos e clientes.\n",
        "#####  **C. Terceiro Passo: Análise Exploratória dos Dados (EDA) para responder às perguntas de negócio.**\n",
        "##### A análise exploratória buscará identificar padrões de compra e tendências no marketplace. Serão analisados o faturamento, lucro mensal e volume de vendas, além da sazonalidade e a lucratividade dos produtos mais vendidos. Também serão investigados os métodos de pagamento mais utilizados, a taxa de cancelamento e a distribuição geográfica das compras, fornecendo insights estratégicos para otimizar operações e melhorar a experiência do cliente.\n",
        "##### **D . Quarto passo: Construção de dashboards e recomendações estratégicas:**\n",
        "##### As informações extraídas serão visualizadas por meio de gráficos interativos no Power BI, permitindo uma análise mais intuitiva dos dados. A partir dessas observações, serão desenvolvidas recomendações estratégicas para otimizar a precificação, ajustar campanhas promocionais e fortalecer a fidelização de clientes, garantindo maior eficiência nas operações do marketplace."
      ]
    },
    {
      "cell_type": "markdown",
      "metadata": {},
      "source": [
        "### **Preparação e Validação dos dados**"
      ]
    },
    {
      "cell_type": "code",
      "execution_count": 2,
      "metadata": {
        "id": "Bfk70GHIbvpH",
        "outputId": "8b365525-0957-4e26-fd6d-995de511d758"
      },
      "outputs": [
        {
          "name": "stdout",
          "output_type": "stream",
          "text": [
            "\n",
            "Valores nulos em Clientes:\n",
            "Empty DataFrame\n",
            "Columns: [cliente_id, nome_cliente, cidade, estado, data_cadastro, total_pedidos]\n",
            "Index: []\n",
            "\n",
            "Valores nulos em Pedidos:\n",
            "Empty DataFrame\n",
            "Columns: [pedido_id, cliente_id, data_pedido, produto_id, quantidade, preco_unitario, status_pedido, custo_produto, metodo_pagamento]\n",
            "Index: []\n",
            "\n",
            "Valores nulos em Produtos:\n",
            "Empty DataFrame\n",
            "Columns: [produto_id, nome_produto, categoria, fornecedor, estoque_disponivel]\n",
            "Index: []\n"
          ]
        }
      ],
      "source": [
        "import pandas as pd\n",
        "import sqlite3\n",
        "\n",
        "# Caminhos dos arquivos CSV\n",
        "pedidos_csv =  r\"C:\\Users\\Carolyne Soares\\.vscode\\Case- Togarantido\\pedidos.csv\"\n",
        "produtos_csv = r\"C:\\Users\\Carolyne Soares\\.vscode\\Case- Togarantido\\produtos.csv\"\n",
        "clientes_csv = r\"C:\\Users\\Carolyne Soares\\.vscode\\Case- Togarantido\\clientes.csv\"\n",
        "\n",
        "\n",
        "# Lendo os CSVs\n",
        "df_pedidos = pd.read_csv(pedidos_csv)\n",
        "df_produtos = pd.read_csv(produtos_csv)\n",
        "df_clientes = pd.read_csv(clientes_csv)\n",
        "\n",
        "# Criando a conexão com um banco de dados SQLite em memória\n",
        "conn = sqlite3.connect(\":memory:\")\n",
        "\n",
        "# Salvando os DataFrames como tabelas no banco\n",
        "df_pedidos.to_sql(\"pedidos\", conn, index=False, if_exists=\"replace\")\n",
        "df_produtos.to_sql(\"produtos\", conn, index=False, if_exists=\"replace\")\n",
        "df_clientes.to_sql(\"clientes\", conn, index=False, if_exists=\"replace\")\n",
        "\n",
        "# Verificando se há valores ausentes ou nulos em campos importantes\n",
        "\n",
        "queries_nulos= {\n",
        "    \"Clientes\": \"SELECT * FROM clientes WHERE cliente_id IS NULL;\",\n",
        "    \"Pedidos\": \"SELECT * FROM pedidos WHERE cliente_id IS NULL OR pedido_id IS NULL;\",\n",
        "    \"Produtos\": \"SELECT * FROM produtos WHERE produto_id IS NULL;\"\n",
        "}\n",
        "\n",
        "for nome, query in queries_nulos.items():\n",
        "    resultado = pd.read_sql_query(query, conn)\n",
        "    print(f\"\\nValores nulos em {nome}:\")\n",
        "    print(resultado)"
      ]
    },
    {
      "cell_type": "markdown",
      "metadata": {
        "id": "25OuwVkSbvpL"
      },
      "source": [
        "##### Não há valores nulos nas colunas cliente_id, pedido_id  e produto_id, que são muito importantes para nossa análise."
      ]
    },
    {
      "cell_type": "code",
      "execution_count": 3,
      "metadata": {},
      "outputs": [
        {
          "name": "stdout",
          "output_type": "stream",
          "text": [
            "Duplicatas na tabela Clientes:\n",
            "Empty DataFrame\n",
            "Columns: [cliente_id, quantidade]\n",
            "Index: []\n",
            "Duplicatas na tabela Pedidos:\n",
            "Empty DataFrame\n",
            "Columns: [pedido_id, quantidade]\n",
            "Index: []\n",
            "Duplicatas na tabela Produtos:\n",
            "Empty DataFrame\n",
            "Columns: [produto_id, quantidade]\n",
            "Index: []\n"
          ]
        }
      ],
      "source": [
        "# Verificando se há valores duplicados nas colunas cliente_ID, pedido_ID e produto_ID.\n",
        "\n",
        "queries_duplicados= {\n",
        "    \"Clientes\": \"SELECT cliente_id, COUNT(*) AS quantidade FROM clientes GROUP BY cliente_id HAVING COUNT(*) > 1;\",\n",
        "    \"Pedidos\": \"SELECT pedido_id, COUNT(*) AS quantidade FROM pedidos GROUP BY pedido_id HAVING COUNT(*) > 1;\",\n",
        "    \"Produtos\": \"SELECT produto_id, COUNT(*) AS quantidade FROM produtos GROUP BY produto_id HAVING COUNT(*) > 1;\"\n",
        "    }\n",
        "\n",
        "for nome, query in queries_duplicados.items():\n",
        "    duplicatas = pd.read_sql_query(query, conn)  \n",
        "    print(f\"Duplicatas na tabela {nome}:\")\n",
        "    print(duplicatas)"
      ]
    },
    {
      "cell_type": "markdown",
      "metadata": {},
      "source": [
        "##### Não há valores duplicados nas colunas mencionadas."
      ]
    },
    {
      "cell_type": "markdown",
      "metadata": {},
      "source": [
        "##### Com os dados devidamente carregados, estruturados e validados, seguiremos para a Análise Exploratória dos Dados, onde responderemos às principais questões de negócio."
      ]
    },
    {
      "cell_type": "markdown",
      "metadata": {},
      "source": [
        "### **Análise Exploratória dos Dados**"
      ]
    },
    {
      "cell_type": "markdown",
      "metadata": {
        "id": "B9zkHpqqbvpN"
      },
      "source": [
        "### **1. Qual foi o faturamento mensal do marketplace no período analisado?**\n"
      ]
    },
    {
      "cell_type": "code",
      "execution_count": 4,
      "metadata": {
        "id": "4WAYZ8gobvpP",
        "outputId": "821edba2-9838-403b-f091-dc3ef93f944b"
      },
      "outputs": [
        {
          "name": "stdout",
          "output_type": "stream",
          "text": [
            "   menor_data  maior_data\n",
            "0  2024-02-26  2025-02-25\n"
          ]
        }
      ],
      "source": [
        "query_periodo= \"\"\"\n",
        "SELECT MIN(data_pedido) AS menor_data, MAX (data_pedido) AS maior_data\n",
        "FROM pedidos; \"\"\"\n",
        "\n",
        "periodo_analisado = pd.read_sql_query(query_periodo, conn)\n",
        "print(periodo_analisado)"
      ]
    },
    {
      "cell_type": "markdown",
      "metadata": {
        "id": "WY1Ec6RKbvpR"
      },
      "source": [
        "##### O período que estamos analisado é de 26/02/2024 a 25/02/2025.\n",
        "\n"
      ]
    },
    {
      "cell_type": "code",
      "execution_count": 5,
      "metadata": {
        "id": "GlkHPHiubvpR",
        "outputId": "dcaa877e-0609-41c1-8fff-3a5b5061e605"
      },
      "outputs": [
        {
          "name": "stdout",
          "output_type": "stream",
          "text": [
            "     ano mes  faturamento_total\n",
            "0   2024  02            6134.37\n",
            "1   2024  03          302697.09\n",
            "2   2024  04          315860.70\n",
            "3   2024  05          185763.13\n",
            "4   2024  06          411797.91\n",
            "5   2024  07          422559.85\n",
            "6   2024  08          320931.12\n",
            "7   2024  09          281829.77\n",
            "8   2024  10          304837.81\n",
            "9   2024  11          221876.42\n",
            "10  2024  12          396642.38\n",
            "11  2025  01          376026.03\n",
            "12  2025  02          236952.65\n"
          ]
        }
      ],
      "source": [
        "query_faturamento=\"\"\"\n",
        "    SELECT\n",
        "    strftime('%Y', data_pedido) AS ano,\n",
        "    strftime('%m', data_pedido) AS mes,\n",
        "    SUM(quantidade * preco_unitario) AS faturamento_total\n",
        "    FROM pedidos\n",
        "    WHERE status_pedido = 'Concluído'\n",
        "    GROUP BY ano, mes\n",
        "    ORDER BY ano, mes ;\"\"\"\n",
        "\n",
        "faturamento_mensal = pd.read_sql_query(query_faturamento, conn)\n",
        "print(faturamento_mensal)"
      ]
    },
    {
      "cell_type": "markdown",
      "metadata": {
        "id": "zkndk9EdbvpT"
      },
      "source": [
        "#####  No período analisado, julho de 2024 registrou o maior faturamento, alcançando 422.559,85 reais. Em seguida, junho de 2024 obteve o segundo maior faturamento, com 411.797,91 reais, possivelmente impulsionado por promoções de meio de ano ou pelo período de férias escolares. Já dezembro de 2024 apresentou o terceiro maior faturamento  396.642,38 reais, o que pode estar relacionado ao aumento das compras de fim de ano. Para uma análise mais detalhada, seria interessante comparar o faturamento de cada mês com o mesmo período em anos diferentes, como fevereiro de 2024 e fevereiro de 2025, a fim de identificar tendências sazonais e avaliar o crescimento ou queda das vendas ao longo do tempo."
      ]
    },
    {
      "cell_type": "markdown",
      "metadata": {
        "id": "_QAbYRIfbvpU"
      },
      "source": [
        "##### Entretanto, a limitação do conjunto de dados restringe uma comparação mais ampla entre anos, já que os registros disponíveis abrangem apenas parte de 2024 e o início de 2025. Destaca-se, ainda, o crescimento expressivo em fevereiro de 2025, que saltou de 6.134,37 reais (menor valor de 2024) para 236.952,65 reais, sugerindo uma possível mudança no desempenho das vendas no início do ano."
      ]
    },
    {
      "cell_type": "markdown",
      "metadata": {
        "id": "Bkh14sSQbvpV"
      },
      "source": [
        "### **2.  Qual foi o lucro mensal do marketplace no período analisado?**"
      ]
    },
    {
      "cell_type": "code",
      "execution_count": 6,
      "metadata": {
        "id": "Dx2paB1GbvpW",
        "outputId": "69db19d4-0586-4a5c-fa60-2eb15e7ac710"
      },
      "outputs": [
        {
          "name": "stdout",
          "output_type": "stream",
          "text": [
            "     ano mes      lucro\n",
            "0   2024  02   -3864.15\n",
            "1   2024  03   90086.86\n",
            "2   2024  04   59489.96\n",
            "3   2024  05   -4441.10\n",
            "4   2024  06  109026.12\n",
            "5   2024  07  161477.99\n",
            "6   2024  08   72893.98\n",
            "7   2024  09   22639.32\n",
            "8   2024  10  -28532.93\n",
            "9   2024  11   27189.01\n",
            "10  2024  12   78818.32\n",
            "11  2025  01   48684.40\n",
            "12  2025  02   86790.47\n"
          ]
        }
      ],
      "source": [
        "query_lucro=\"\"\"\n",
        "SELECT\n",
        "    strftime('%Y', data_pedido) AS ano,\n",
        "    strftime('%m', data_pedido) AS mes,\n",
        "    SUM((quantidade * preco_unitario) - (quantidade * custo_produto)) AS lucro\n",
        "FROM pedidos\n",
        "WHERE status_pedido = 'Concluído'\n",
        "GROUP BY ano, mes\n",
        "ORDER BY ano, mes;\"\"\"\n",
        "\n",
        "lucro_mensal = pd.read_sql_query(query_lucro, conn)\n",
        "print(lucro_mensal)"
      ]
    },
    {
      "cell_type": "markdown",
      "metadata": {
        "id": "Dnx9Z2dQbvpX"
      },
      "source": [
        "##### Os meses de Junho e julho de 2024 foram os meses mais lucrativos, com lucros de 109.026,12 e 161.477,99 reais, respectivamente. Isso confirma que esses períodos tiveram o melhor desempenho do marketplace, alinhando-se com os meses de maior faturamento. Além disso, fevereiro de 2025 registrou um lucro expressivo de 86.790,47 reais, contrastando com o prejuízo de fevereiro de 2024 (R$ -3.864,15 ), o que pode indicar um crescimento significativo e melhorias na estratégia adotada."
      ]
    },
    {
      "cell_type": "markdown",
      "metadata": {
        "id": "C8okjalfbvpZ"
      },
      "source": [
        "### **3. Qual foi a margem de lucro média mensal considerando o custo de produtos?**"
      ]
    },
    {
      "cell_type": "code",
      "execution_count": 7,
      "metadata": {
        "id": "q9Ge1zgmbvpZ",
        "outputId": "b5da69a5-5b35-4647-e362-5e8d104662a4"
      },
      "outputs": [
        {
          "name": "stdout",
          "output_type": "stream",
          "text": [
            "     ano mes  margem_lucro(%)\n",
            "0   2024  02           -62.99\n",
            "1   2024  03            29.76\n",
            "2   2024  04            18.83\n",
            "3   2024  05            -2.39\n",
            "4   2024  06            26.48\n",
            "5   2024  07            38.21\n",
            "6   2024  08            22.71\n",
            "7   2024  09             8.03\n",
            "8   2024  10            -9.36\n",
            "9   2024  11            12.25\n",
            "10  2024  12            19.87\n",
            "11  2025  01            12.95\n",
            "12  2025  02            36.63\n"
          ]
        }
      ],
      "source": [
        "query_margem_lucro=\"\"\"\n",
        "WITH lucro_mensal AS (\n",
        "    SELECT\n",
        "        strftime('%Y', data_pedido) AS ano,\n",
        "        strftime('%m', data_pedido) AS mes,\n",
        "        SUM((quantidade * preco_unitario) - (quantidade * custo_produto)) AS lucro_bruto,\n",
        "        SUM(quantidade * preco_unitario) AS receita_total\n",
        "    FROM pedidos\n",
        "    WHERE status_pedido = 'Concluído'\n",
        "    GROUP BY ano, mes\n",
        ")\n",
        "\n",
        "SELECT\n",
        "    ano,\n",
        "    mes,\n",
        "    ROUND((lucro_bruto / receita_total) * 100,2) AS \"margem_lucro(%)\"\n",
        "FROM lucro_mensal\n",
        "ORDER BY ano, mes;\"\"\"\n",
        "\n",
        "margem_lucro = pd.read_sql_query(query_margem_lucro, conn)\n",
        "print(margem_lucro)"
      ]
    },
    {
      "cell_type": "markdown",
      "metadata": {
        "id": "4MHwlfxCbvpb"
      },
      "source": [
        "##### A margem de lucro média mensal variou significativamente ao longo do período, com destaque para fevereiro de 2024 (-62,99%), que registrou o pior desempenho devido a custos que superaram a receita. Outros meses, como maio e outubro de 2024, também apresentaram margens negativas, possivelmente por descontos elevados ou aumento nos custos. Em contrapartida, junho e julho de 2024 tiveram os melhores resultados. Já fevereiro de 2025 mostrou uma recuperação expressiva, sugerindo melhorias na estratégia de vendas e no controle de custos."
      ]
    },
    {
      "cell_type": "markdown",
      "metadata": {
        "id": "l7O0LbwQbvpc"
      },
      "source": [
        "### **4. Qual é a taxa de cancelamento mensal de pedidos?**"
      ]
    },
    {
      "cell_type": "code",
      "execution_count": 8,
      "metadata": {
        "id": "EThEFUA8bvpd",
        "outputId": "8c59933a-dbb4-41ea-a2e8-c7f2af99d955"
      },
      "outputs": [
        {
          "name": "stdout",
          "output_type": "stream",
          "text": [
            "     ano mes  taxa_cancelamento\n",
            "0   2024  02              80.00\n",
            "1   2024  03              45.71\n",
            "2   2024  04              50.59\n",
            "3   2024  05              55.26\n",
            "4   2024  06              51.65\n",
            "5   2024  07              49.48\n",
            "6   2024  08              56.67\n",
            "7   2024  09              50.79\n",
            "8   2024  10              48.00\n",
            "9   2024  11              52.70\n",
            "10  2024  12              47.19\n",
            "11  2025  01              41.57\n",
            "12  2025  02              47.89\n"
          ]
        }
      ],
      "source": [
        "query_cancelamento_mensal= \"\"\"\n",
        "SELECT strftime('%Y', data_pedido) AS ano,\n",
        "    strftime('%m', data_pedido) AS mes,\n",
        "    ROUND(COUNT(CASE WHEN status_pedido = 'Cancelado' THEN 1 END) * 100.0 / COUNT(*),2) AS taxa_cancelamento\n",
        "FROM pedidos\n",
        "GROUP BY ano, mes\n",
        "ORDER BY ano, mes;\"\"\"\n",
        "\n",
        "\n",
        "taxa_cancelamento = pd.read_sql_query(query_cancelamento_mensal, conn)\n",
        "print(taxa_cancelamento)"
      ]
    },
    {
      "cell_type": "markdown",
      "metadata": {
        "id": "ItbMOqDwbvpe"
      },
      "source": [
        "##### **E qual seria taxa de cancelamento médio geral do periódo em análise?**"
      ]
    },
    {
      "cell_type": "code",
      "execution_count": 9,
      "metadata": {
        "id": "6ixUzroPbvpf",
        "outputId": "c5d1d1a3-79f8-459c-c706-dbb1fc75db5e"
      },
      "outputs": [
        {
          "name": "stdout",
          "output_type": "stream",
          "text": [
            "   taxa_cancelamento_geral\n",
            "0                     49.9\n"
          ]
        }
      ],
      "source": [
        "query_cancelamento_medio= \"\"\"\n",
        "SELECT\n",
        "    (COUNT(CASE WHEN status_pedido = 'Cancelado' THEN 1 END) * 100.0 / COUNT(*)) AS taxa_cancelamento_geral\n",
        "FROM pedidos \"\"\";\n",
        "\n",
        "cancelamento_medio = pd.read_sql_query(query_cancelamento_medio, conn)\n",
        "print(cancelamento_medio)"
      ]
    },
    {
      "cell_type": "markdown",
      "metadata": {
        "id": "Iy-808I5bvpf"
      },
      "source": [
        "##### A taxa de cancelamento se mostrou alta e instável ao longo do período analisado, com uma média de cancelamento geral de 49,9%. O maior índice foi registrado em fevereiro de 2024, atingindo 80%, o que pode indicar falhas no controle de cancelamentos, problemas operacionais ou baixa satisfação dos clientes. Esse dado se alinha ao faturamento e lucro extremamente baixos no mesmo período, sugerindo que os cancelamentos impactaram diretamente o desempenho financeiro do marketplace. Por outro lado, fevereiro de 2025 apresentou uma melhora significativa, reduzindo a taxa para 47,9%. Esse movimento acompanha o aumento do faturamento e da margem de lucro no mesmo mês, indicando possíveis ajustes na política de cancelamento ou melhorias na experiência do cliente."
      ]
    },
    {
      "cell_type": "markdown",
      "metadata": {
        "id": "LLqJG_7cbvpg"
      },
      "source": [
        "### **5. Quais são os três produtos mais vendidos e seus respectivos faturamentos?**"
      ]
    },
    {
      "cell_type": "code",
      "execution_count": 10,
      "metadata": {
        "id": "rWqDFKhzbvpg",
        "outputId": "3a3e83f7-37e8-49b3-faf8-e609bc6abccd"
      },
      "outputs": [
        {
          "name": "stdout",
          "output_type": "stream",
          "text": [
            "   nome_produto  total_vendido  faturamento\n",
            "0  Produto 2034             61    167730.42\n",
            "1  Produto 2019             56    163951.82\n",
            "2  Produto 2014             52    157427.16\n"
          ]
        }
      ],
      "source": [
        "query_top_3= \"\"\"\n",
        "SELECT p.nome_produto, SUM(pe.quantidade) AS total_vendido,\n",
        "            SUM(pe.quantidade * pe.preco_unitario) AS faturamento\n",
        "FROM pedidos pe\n",
        "JOIN produtos p ON pe.produto_id = p.produto_id\n",
        "WHERE pe.status_pedido = 'Concluído'\n",
        "GROUP BY p.nome_produto\n",
        "ORDER BY total_vendido DESC\n",
        "LIMIT 3;\"\"\"\n",
        "\n",
        "top_3_produtos = pd.read_sql_query(query_top_3, conn)\n",
        "print(top_3_produtos)"
      ]
    },
    {
      "cell_type": "markdown",
      "metadata": {
        "id": "XMED3kuZbvpg"
      },
      "source": [
        "##### O Produto 2034 foi o mais vendido, com 61 unidades, gerando um faturamento de 167.730,42 reais . O Produto 2019 ficou em segundo lugar, com 56 unidades vendidas, faturando 163.951,82 reais. O Produto 2014 foi o terceiro mais vendido, com 52 unidades, faturando 157.427,16 reais. **Mas apesar de serem esses os top 3 mais vendidos, será que foram esses produtos que deram maiores lucros para empresa?**"
      ]
    },
    {
      "cell_type": "code",
      "execution_count": 11,
      "metadata": {
        "id": "fYXq0lUxbvph",
        "outputId": "8b78f0ce-f50e-43e8-9d8e-7c0f0c1d827a"
      },
      "outputs": [
        {
          "name": "stdout",
          "output_type": "stream",
          "text": [
            "   nome_produto  lucro_total  margem_lucro_percentual\n",
            "0  Produto 2014     60054.74                    38.15\n",
            "1  Produto 2034     59081.55                    35.22\n",
            "2  Produto 2035     48902.84                    45.19\n"
          ]
        }
      ],
      "source": [
        "query_margem_lucro_por_produto= \"\"\"\n",
        "SELECT\n",
        "    p.nome_produto,\n",
        "    SUM((pe.quantidade * pe.preco_unitario) - (pe.quantidade * pe.custo_produto)) AS lucro_total,\n",
        "    ROUND(SUM((pe.quantidade * pe.preco_unitario) - (pe.quantidade * pe.custo_produto)) * 100.0 / SUM(pe.quantidade * pe.preco_unitario), 2) AS margem_lucro_percentual\n",
        "FROM pedidos pe\n",
        "JOIN produtos p ON pe.produto_id = p.produto_id\n",
        "WHERE pe.status_pedido = 'Concluído'\n",
        "GROUP BY p.nome_produto\n",
        "ORDER BY lucro_total DESC\n",
        "LIMIT 3; \"\"\"\n",
        "\n",
        "margem_lucro_por_produto=pd.read_sql_query(query_margem_lucro_por_produto, conn)\n",
        "print(margem_lucro_por_produto)\n"
      ]
    },
    {
      "cell_type": "markdown",
      "metadata": {
        "id": "I_7zGVmEbvph"
      },
      "source": [
        "#####  Assim, apesar dos produtos mais vendidos serem o Produto 2034, Produto 2019 e Produto 2014, quando analisamos o lucro total, o Produto 2014 lidera com 60.054,74 reais, seguido pelo Produto 2034 (59.081,55 reais) e Produto 2035 (48.902,84 reais). Isso significa que o Produto 2019, apesar de ser o segundo mais vendido, não aparece entre os três mais lucrativos, possivelmente devido a uma margem de lucro menor. Já o Produto 2035, que nem estava entre os mais vendidos, aparece no top 3 produtos mais lucrativos, mostrando que uma boa margem de lucro pode ser mais vantajosa do que apenas um alto volume de vendas."
      ]
    },
    {
      "cell_type": "markdown",
      "metadata": {
        "id": "RLxO9fmzbvpi"
      },
      "source": [
        "### **6. Quais são os métodos de pagamento mais utilizados?**\n",
        "\n",
        "\n"
      ]
    },
    {
      "cell_type": "code",
      "execution_count": 12,
      "metadata": {
        "id": "Tp96jH9Fbvpi",
        "outputId": "a826f658-ae42-46b5-b5e0-fab7683b3d4d"
      },
      "outputs": [
        {
          "name": "stdout",
          "output_type": "stream",
          "text": [
            "         metodo_pagamento  total_uso\n",
            "0  Transferência Bancária        137\n",
            "1                     PIX        124\n",
            "2       Cartão de Crédito        123\n",
            "3                  Boleto        117\n"
          ]
        }
      ],
      "source": [
        "query_metodo_pagamento= \"\"\"\n",
        "SELECT metodo_pagamento, COUNT(*) AS total_uso\n",
        "FROM pedidos\n",
        "WHERE status_pedido = 'Concluído'\n",
        "GROUP BY metodo_pagamento\n",
        "ORDER BY total_uso DESC;\"\"\"\n",
        "\n",
        "metodo_pagamento=pd.read_sql_query(query_metodo_pagamento, conn)\n",
        "print(metodo_pagamento)"
      ]
    },
    {
      "cell_type": "markdown",
      "metadata": {
        "id": "f3-Raj-vbvpj"
      },
      "source": [
        "##### A análise dos métodos de pagamento mais utilizados revela que a Transferência Bancária foi a opção mais escolhida pelos clientes, com 137 transações, seguida de perto pelo PIX (124 transações) e Cartão de Crédito (123 transações). O Boleto Bancário, apesar de ser o menos utilizado entre os quatro, ainda teve um número significativo de transações (117)."
      ]
    },
    {
      "cell_type": "markdown",
      "metadata": {
        "id": "oW9E-qtrbvpj"
      },
      "source": [
        "### **7. Quais estados geraram mais vendas?**"
      ]
    },
    {
      "cell_type": "code",
      "execution_count": 13,
      "metadata": {
        "id": "YqC7QRzEbvpj",
        "outputId": "6f71db27-3b38-44c1-824e-0a86e7a7ad14"
      },
      "outputs": [
        {
          "name": "stdout",
          "output_type": "stream",
          "text": [
            "  estado  total_vendas\n",
            "0     MT            21\n",
            "1     SC            19\n",
            "2     HI            16\n",
            "3     CT            16\n"
          ]
        }
      ],
      "source": [
        "# Para responder a essa pergunta eu levei em consideração a quantidade total de Pedido_id gerado por Estado com status de concluído.\n",
        "\n",
        "query_por_estado= \"\"\"\n",
        "SELECT c.estado, COUNT(p.pedido_id) AS total_vendas\n",
        "FROM pedidos p\n",
        "JOIN clientes c ON p.cliente_id = c.cliente_id\n",
        "WHERE p.status_pedido = 'Concluído'\n",
        "GROUP BY c.estado\n",
        "ORDER BY total_vendas DESC\n",
        "LIMIT 4;\"\"\"\n",
        "\n",
        "vendas_por_estado=pd.read_sql_query(query_por_estado, conn)\n",
        "print(vendas_por_estado)"
      ]
    },
    {
      "cell_type": "markdown",
      "metadata": {
        "id": "oioFYgFYbvpj"
      },
      "source": [
        "##### A análise das vendas por estado mostra que MT lidera com 21 pedidos concluídos, seguido por SC com 19 vendas e HI e CT com 16 vendas cada. **Mas será que esses Estado estão entre aqueles que geraram maiores lucros para empresa?**"
      ]
    },
    {
      "cell_type": "code",
      "execution_count": 14,
      "metadata": {
        "id": "Q76SNMG_bvpj",
        "outputId": "63a1b313-2e7b-4a73-e982-7c2486b7a0e4"
      },
      "outputs": [
        {
          "name": "stdout",
          "output_type": "stream",
          "text": [
            "  estado  lucro_total\n",
            "0     MT     89426.18\n",
            "1     MD     63833.29\n",
            "2     WI     44216.18\n",
            "3     MN     41728.85\n"
          ]
        }
      ],
      "source": [
        "query_por_estado_lucro= \"\"\"\n",
        "SELECT\n",
        "    c.estado,\n",
        "    SUM((p.quantidade * p.preco_unitario) - (p.quantidade * p.custo_produto)) AS lucro_total\n",
        "FROM pedidos p\n",
        "JOIN clientes c ON p.cliente_id = c.cliente_id\n",
        "WHERE p.status_pedido = 'Concluído'\n",
        "GROUP BY c.estado\n",
        "ORDER BY lucro_total DESC\n",
        "LIMIT 4;\"\"\"\n",
        "\n",
        "lucro_por_estado=pd.read_sql_query(query_por_estado_lucro, conn)\n",
        "print(lucro_por_estado)"
      ]
    },
    {
      "cell_type": "markdown",
      "metadata": {
        "id": "edrO6jxMbvpk"
      },
      "source": [
        "##### Observa-se que estado MT não apenas liderou em número de pedidos concluídos (21), mas também registrou o maior lucro total (R$ 89.426,18). Isso indica que as vendas no estado não apenas foram volumosas, mas também rentáveis. Já o estado SC, que estava em segundo lugar em número de vendas (19), não apareceu no ranking dos estados mais lucrativos. Isso pode indicar que, apesar de ter muitas vendas, o ticket médio ou a margem de lucro dos produtos vendidos em SC pode ser menor. Estados como MD, WI e MN aparecem com alto lucro, mas não necessariamente tinham os maiores volumes de pedidos. Isso pode significar que esses estados compraram produtos mais caros ou com maior margem de lucro."
      ]
    },
    {
      "cell_type": "markdown",
      "metadata": {
        "id": "Buf2u0Rkbvpk"
      },
      "source": [
        "### **8. Quantos clientes realizaram mais de uma compra?**"
      ]
    },
    {
      "cell_type": "code",
      "execution_count": 15,
      "metadata": {
        "id": "hfzWxy24bvpk",
        "outputId": "dcfab968-aa55-4d89-fae5-0da257802502"
      },
      "outputs": [
        {
          "name": "stdout",
          "output_type": "stream",
          "text": [
            "   clientes_recorrentes\n",
            "0                   130\n"
          ]
        }
      ],
      "source": [
        "query_clientes_multipla_compra= \"\"\"\n",
        "SELECT COUNT(*) AS clientes_recorrentes\n",
        "FROM (\n",
        "        SELECT cliente_id\n",
        "        FROM pedidos\n",
        "        WHERE status_pedido = 'Concluído'\n",
        "        GROUP BY cliente_id\n",
        "        HAVING COUNT(pedido_id) > 1);\"\"\"\n",
        "\n",
        "clientes_multipla_compra=pd.read_sql_query(query_clientes_multipla_compra, conn)\n",
        "print(clientes_multipla_compra)"
      ]
    },
    {
      "cell_type": "markdown",
      "metadata": {},
      "source": [
        "##### A consulta revelou que 130 clientes realizaram mais de uma compra no marketplace.Contudo, é interessante comparar esse número com os clientes que compraram apenas uma vez."
      ]
    },
    {
      "cell_type": "code",
      "execution_count": 16,
      "metadata": {},
      "outputs": [
        {
          "name": "stdout",
          "output_type": "stream",
          "text": [
            "   clientes_nao_recorrentes\n",
            "0                       190\n"
          ]
        }
      ],
      "source": [
        "query_clientes_uma_compra= \"\"\"\n",
        "SELECT COUNT(*) AS clientes_nao_recorrentes\n",
        "FROM (\n",
        "        SELECT cliente_id\n",
        "        FROM pedidos\n",
        "        WHERE status_pedido = 'Concluído'\n",
        "        GROUP BY cliente_id\n",
        "        HAVING COUNT(pedido_id) = 1);\"\"\"\n",
        "\n",
        "clientes_uma_compra=pd.read_sql_query(query_clientes_uma_compra, conn)\n",
        "print(clientes_uma_compra)"
      ]
    },
    {
      "cell_type": "markdown",
      "metadata": {
        "id": "ttHQLRuPbvpl"
      },
      "source": [
        "##### Assim, embora tenhamos 130 clientes recorrentes, ou seja, que efetuaram mais de uma compra, há 190 clientes que não são recorrentes, tendo feito apenas uma compra no marketplace. Isso indica que, apesar de ter uma parcela considerável de clientes que retornam para novas compras, a maioria ainda não se fidelizou. Para melhorar essa retenção, seria interessante adotar estratégias como ofertas personalizadas, descontos progressivos e programas de fidelidade, incentivando os clientes não recorrentes a realizarem novas compras. Como próximo passo, vamos analisar o ticket médio desses clientes e identificar quais produtos são mais adquiridos por eles."
      ]
    },
    {
      "cell_type": "code",
      "execution_count": 17,
      "metadata": {
        "id": "pevg6x2sbvpl",
        "outputId": "81b28807-159b-48f0-a403-49999a9a93c8"
      },
      "outputs": [
        {
          "name": "stdout",
          "output_type": "stream",
          "text": [
            "   ticket_medio\n",
            "0   7462.148318\n"
          ]
        }
      ],
      "source": [
        "query_ticket_medio_recorrentes = \"\"\"\n",
        "SELECT\n",
        "    SUM(pe.quantidade * pe.preco_unitario) / COUNT(DISTINCT pe.pedido_id) AS ticket_medio\n",
        "FROM pedidos pe\n",
        "WHERE pe.cliente_id IN (\n",
        "    SELECT cliente_id\n",
        "    FROM pedidos\n",
        "    WHERE status_pedido = 'Concluído'\n",
        "    GROUP BY cliente_id\n",
        "    HAVING COUNT(pedido_id) > 1\n",
        ");\"\"\"\n",
        "\n",
        "ticket_medio_recorrentes=pd.read_sql_query(query_ticket_medio_recorrentes, conn)\n",
        "print(ticket_medio_recorrentes)"
      ]
    },
    {
      "cell_type": "markdown",
      "metadata": {
        "id": "51dgPG8sbvpm"
      },
      "source": [
        "##### Dessa forma, o ticket médio dos clientes recorrentes é de aproximadamente R$ 7.462,15. Isso quer dizer que, em média, cada pedido feito por um cliente que realizou mais de uma compra possui um valor elevado. Esse resultado reforça a importância da fidelização de clientes, pois aqueles que voltam a comprar tendem a gastar mais por pedido."
      ]
    },
    {
      "cell_type": "code",
      "execution_count": 18,
      "metadata": {
        "id": "ppE9udEpbvpm",
        "outputId": "d3f23d99-b66f-4139-d798-f72e5cc978bd"
      },
      "outputs": [
        {
          "name": "stdout",
          "output_type": "stream",
          "text": [
            "   nome_produto  total_vendido\n",
            "0  Produto 2019             56\n",
            "1  Produto 2004             43\n",
            "2  Produto 2026             42\n",
            "3  Produto 2013             42\n"
          ]
        }
      ],
      "source": [
        "query_produtos_recorrentes = \"\"\"\n",
        "WITH clientes_recorrentes AS (\n",
        "    SELECT cliente_id\n",
        "    FROM pedidos\n",
        "    WHERE status_pedido = 'Concluído'\n",
        "    GROUP BY cliente_id\n",
        "    HAVING COUNT(pedido_id) > 1\n",
        ")\n",
        "\n",
        "SELECT\n",
        "    p.nome_produto,\n",
        "    SUM(pe.quantidade) AS total_vendido\n",
        "FROM pedidos pe\n",
        "JOIN produtos p ON pe.produto_id = p.produto_id\n",
        "WHERE pe.cliente_id IN (SELECT cliente_id FROM clientes_recorrentes)\n",
        "GROUP BY p.nome_produto\n",
        "ORDER BY total_vendido DESC\n",
        "LIMIT 4;\"\"\"\n",
        "\n",
        "\n",
        "produtos_recorrentes=pd.read_sql_query(query_produtos_recorrentes, conn)\n",
        "print(produtos_recorrentes)\n",
        "\n",
        "# Fechando a conexão\n",
        "conn.close()"
      ]
    },
    {
      "cell_type": "markdown",
      "metadata": {
        "id": "kzrWFNJtbvpm"
      },
      "source": [
        "##### A análise mostra que o Produto 2019 é o mais comprado por clientes recorrentes, com 56 unidades vendidas, seguido pelos Produtos 2004, 2026 e 2013, todos com um volume de vendas entre 42 e 43 unidades. Curiosamente, o Produto 2019, que não figurava entre os três mais lucrativos no total, destaca-se como o mais comprado por clientes fiéis. Isso sugere que ele pode ser um item essencial ou de alto engajamento, possivelmente impulsionado por sua utilidade ou recorrência de compra. Os produtos dessa lista são ótimos candidatos para estratégias de recompra e promoções direcionadas a clientes recorrentes."
      ]
    },
    {
      "cell_type": "markdown",
      "metadata": {
        "id": "N7MYgg5dbvpn"
      },
      "source": [
        "### **Considerações Finais**"
      ]
    },
    {
      "cell_type": "markdown",
      "metadata": {
        "id": "skrEpv4AionU"
      },
      "source": [
        "##### As consultas SQL realizadas permitiram obter insights estratégicos sobre o desempenho do marketplace, abordando desde o faturamento e lucro até o comportamento dos clientes e os métodos de pagamento mais utilizados. A análise revelou tendências importantes, como sazonalidade nas vendas, impacto da fidelização de clientes e oportunidades de otimização na precificação e na redução da taxa de cancelamento."
      ]
    },
    {
      "cell_type": "markdown",
      "metadata": {
        "id": "gCFflc4Zis9x"
      },
      "source": [
        "##### Vale destacar que, apesar de termos identificado padrões relevantes, há espaço para análises mais aprofundadas, como a correlação entre produtos de alto faturamento e suas margens de lucro, a influência dos métodos de pagamento na taxa de cancelamento e possíveis variações regionais nas vendas. Além disso, a análise preditiva com base no comportamento passado poderia auxiliar na antecipação de picos de demanda e estratégias de precificação mais eficazes."
      ]
    },
    {
      "cell_type": "markdown",
      "metadata": {
        "id": "7GbgvHn-bvpn"
      },
      "source": [
        "\n",
        "##### O relatório completo, tomando como base essas consultas, está disponível em PDF.\n"
      ]
    }
  ],
  "metadata": {
    "colab": {
      "provenance": []
    },
    "kernelspec": {
      "display_name": "Python 3",
      "language": "python",
      "name": "python3"
    },
    "language_info": {
      "codemirror_mode": {
        "name": "ipython",
        "version": 3
      },
      "file_extension": ".py",
      "mimetype": "text/x-python",
      "name": "python",
      "nbconvert_exporter": "python",
      "pygments_lexer": "ipython3",
      "version": "3.10.10"
    }
  },
  "nbformat": 4,
  "nbformat_minor": 0
}
